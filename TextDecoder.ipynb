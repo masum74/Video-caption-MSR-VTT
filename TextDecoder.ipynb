{
 "cells": [
  {
   "cell_type": "code",
   "execution_count": 1,
   "metadata": {},
   "outputs": [],
   "source": [
    "import torch.nn as nn\n",
    "from torch.nn import functional as F\n",
    "\n",
    "class TextDecoder(nn.Module):\n",
    "    def __init__(self, input_size: int, state_size: int, vocab_size: int):\n",
    "        super(TextDecoder, self).__init__()\n",
    "        self.state_size = state_size\n",
    "        self.embedding = nn.Embedding(vocab_size, input_size)\n",
    "        self.rnnCell = nn.LSTMCell(input_size, state_size, bias=True)\n",
    "        self.predictionLayer = nn.Linear(state_size, vocab_size)\n",
    "        self.init_weights()\n",
    "        \n",
    "    def dummy_input_state(self, batch_size):\n",
    "\n",
    "        return (torch.zeros(batch_size, self.state_size), torch.zeros(batch_size, self.state_size))\n",
    "    \n",
    "    def init_weights(self):\n",
    "        \n",
    "        self.embedding.weight.data.uniform_(-0.1, 0.1)\n",
    "        self.predictionLayer.bias.data.fill_(0)\n",
    "        self.predictionLayer.weight.data.uniform_(-0.1, 0.1)\n",
    "        \n",
    "    def forward(self, input_state, current_token_id):\n",
    "        # Embed the input token id into a vector.\n",
    "        embedded_token = self.embedding(current_token_id)\n",
    "\n",
    "        # Pass the embedding through the RNN cell.\n",
    "        h,c = self.rnnCell(embedded_token, input_state)\n",
    "        \n",
    "        # Output prediction.\n",
    "        prediction = self.predictionLayer(F.relu(h))\n",
    "        \n",
    "        return prediction, (h,c)"
   ]
  },
  {
   "cell_type": "code",
   "execution_count": null,
   "metadata": {},
   "outputs": [],
   "source": []
  }
 ],
 "metadata": {
  "kernelspec": {
   "display_name": "Python 3",
   "language": "python",
   "name": "python3"
  },
  "language_info": {
   "codemirror_mode": {
    "name": "ipython",
    "version": 3
   },
   "file_extension": ".py",
   "mimetype": "text/x-python",
   "name": "python",
   "nbconvert_exporter": "python",
   "pygments_lexer": "ipython3",
   "version": "3.6.9"
  }
 },
 "nbformat": 4,
 "nbformat_minor": 2
}

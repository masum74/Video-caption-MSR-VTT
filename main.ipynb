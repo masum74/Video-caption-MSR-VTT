{
  "nbformat": 4,
  "nbformat_minor": 0,
  "metadata": {
    "accelerator": "GPU",
    "colab": {
      "name": "main.ipynb",
      "provenance": [],
      "collapsed_sections": [],
      "toc_visible": true
    },
    "kernelspec": {
      "display_name": "Python 3",
      "language": "python",
      "name": "python3"
    },
    "language_info": {
      "codemirror_mode": {
        "name": "ipython",
        "version": 3
      },
      "file_extension": ".py",
      "mimetype": "text/x-python",
      "name": "python",
      "nbconvert_exporter": "python",
      "pygments_lexer": "ipython3",
      "version": "3.6.9"
    },
    "widgets": {
      "application/vnd.jupyter.widget-state+json": {
        "a050a4af5bfb4880a909fce9d7ccddde": {
          "model_module": "@jupyter-widgets/controls",
          "model_name": "HBoxModel",
          "state": {
            "_view_name": "HBoxView",
            "_dom_classes": [],
            "_model_name": "HBoxModel",
            "_view_module": "@jupyter-widgets/controls",
            "_model_module_version": "1.5.0",
            "_view_count": null,
            "_view_module_version": "1.5.0",
            "box_style": "",
            "layout": "IPY_MODEL_73c14d5252a146e0af0dbc8ada99d5ff",
            "_model_module": "@jupyter-widgets/controls",
            "children": [
              "IPY_MODEL_b9e7b4c26b9c4fa58036b9fde2cdbed1",
              "IPY_MODEL_36de28f4231d4ceba08dde6a97b6bc33"
            ]
          }
        },
        "73c14d5252a146e0af0dbc8ada99d5ff": {
          "model_module": "@jupyter-widgets/base",
          "model_name": "LayoutModel",
          "state": {
            "_view_name": "LayoutView",
            "grid_template_rows": null,
            "right": null,
            "justify_content": null,
            "_view_module": "@jupyter-widgets/base",
            "overflow": null,
            "_model_module_version": "1.2.0",
            "_view_count": null,
            "flex_flow": "row wrap",
            "width": "100%",
            "min_width": null,
            "border": null,
            "align_items": null,
            "bottom": null,
            "_model_module": "@jupyter-widgets/base",
            "top": null,
            "grid_column": null,
            "overflow_y": null,
            "overflow_x": null,
            "grid_auto_flow": null,
            "grid_area": null,
            "grid_template_columns": null,
            "flex": null,
            "_model_name": "LayoutModel",
            "justify_items": null,
            "grid_row": null,
            "max_height": null,
            "align_content": null,
            "visibility": null,
            "align_self": null,
            "height": null,
            "min_height": null,
            "padding": null,
            "grid_auto_rows": null,
            "grid_gap": null,
            "max_width": null,
            "order": null,
            "_view_module_version": "1.2.0",
            "grid_template_areas": null,
            "object_position": null,
            "object_fit": null,
            "grid_auto_columns": null,
            "margin": null,
            "display": "inline-flex",
            "left": null
          }
        },
        "b9e7b4c26b9c4fa58036b9fde2cdbed1": {
          "model_module": "@jupyter-widgets/controls",
          "model_name": "FloatProgressModel",
          "state": {
            "_view_name": "ProgressView",
            "style": "IPY_MODEL_26aac1fc2d1543d3ae83a8a5dbc30b2a",
            "_dom_classes": [],
            "description": "Validation sanity check: 100%",
            "_model_name": "FloatProgressModel",
            "bar_style": "info",
            "max": 1,
            "_view_module": "@jupyter-widgets/controls",
            "_model_module_version": "1.5.0",
            "value": 1,
            "_view_count": null,
            "_view_module_version": "1.5.0",
            "orientation": "horizontal",
            "min": 0,
            "description_tooltip": null,
            "_model_module": "@jupyter-widgets/controls",
            "layout": "IPY_MODEL_1fde098dcab740168092189755ddda63"
          }
        },
        "36de28f4231d4ceba08dde6a97b6bc33": {
          "model_module": "@jupyter-widgets/controls",
          "model_name": "HTMLModel",
          "state": {
            "_view_name": "HTMLView",
            "style": "IPY_MODEL_2dfff9d8d0d347caa4e7acae88248806",
            "_dom_classes": [],
            "description": "",
            "_model_name": "HTMLModel",
            "placeholder": "​",
            "_view_module": "@jupyter-widgets/controls",
            "_model_module_version": "1.5.0",
            "value": " 1/1 [00:05&lt;00:00,  5.56s/it]",
            "_view_count": null,
            "_view_module_version": "1.5.0",
            "description_tooltip": null,
            "_model_module": "@jupyter-widgets/controls",
            "layout": "IPY_MODEL_27f7247a68504dd98072a05f170a4a4e"
          }
        },
        "26aac1fc2d1543d3ae83a8a5dbc30b2a": {
          "model_module": "@jupyter-widgets/controls",
          "model_name": "ProgressStyleModel",
          "state": {
            "_view_name": "StyleView",
            "_model_name": "ProgressStyleModel",
            "description_width": "initial",
            "_view_module": "@jupyter-widgets/base",
            "_model_module_version": "1.5.0",
            "_view_count": null,
            "_view_module_version": "1.2.0",
            "bar_color": null,
            "_model_module": "@jupyter-widgets/controls"
          }
        },
        "1fde098dcab740168092189755ddda63": {
          "model_module": "@jupyter-widgets/base",
          "model_name": "LayoutModel",
          "state": {
            "_view_name": "LayoutView",
            "grid_template_rows": null,
            "right": null,
            "justify_content": null,
            "_view_module": "@jupyter-widgets/base",
            "overflow": null,
            "_model_module_version": "1.2.0",
            "_view_count": null,
            "flex_flow": null,
            "width": null,
            "min_width": null,
            "border": null,
            "align_items": null,
            "bottom": null,
            "_model_module": "@jupyter-widgets/base",
            "top": null,
            "grid_column": null,
            "overflow_y": null,
            "overflow_x": null,
            "grid_auto_flow": null,
            "grid_area": null,
            "grid_template_columns": null,
            "flex": "2",
            "_model_name": "LayoutModel",
            "justify_items": null,
            "grid_row": null,
            "max_height": null,
            "align_content": null,
            "visibility": null,
            "align_self": null,
            "height": null,
            "min_height": null,
            "padding": null,
            "grid_auto_rows": null,
            "grid_gap": null,
            "max_width": null,
            "order": null,
            "_view_module_version": "1.2.0",
            "grid_template_areas": null,
            "object_position": null,
            "object_fit": null,
            "grid_auto_columns": null,
            "margin": null,
            "display": null,
            "left": null
          }
        },
        "2dfff9d8d0d347caa4e7acae88248806": {
          "model_module": "@jupyter-widgets/controls",
          "model_name": "DescriptionStyleModel",
          "state": {
            "_view_name": "StyleView",
            "_model_name": "DescriptionStyleModel",
            "description_width": "",
            "_view_module": "@jupyter-widgets/base",
            "_model_module_version": "1.5.0",
            "_view_count": null,
            "_view_module_version": "1.2.0",
            "_model_module": "@jupyter-widgets/controls"
          }
        },
        "27f7247a68504dd98072a05f170a4a4e": {
          "model_module": "@jupyter-widgets/base",
          "model_name": "LayoutModel",
          "state": {
            "_view_name": "LayoutView",
            "grid_template_rows": null,
            "right": null,
            "justify_content": null,
            "_view_module": "@jupyter-widgets/base",
            "overflow": null,
            "_model_module_version": "1.2.0",
            "_view_count": null,
            "flex_flow": null,
            "width": null,
            "min_width": null,
            "border": null,
            "align_items": null,
            "bottom": null,
            "_model_module": "@jupyter-widgets/base",
            "top": null,
            "grid_column": null,
            "overflow_y": null,
            "overflow_x": null,
            "grid_auto_flow": null,
            "grid_area": null,
            "grid_template_columns": null,
            "flex": null,
            "_model_name": "LayoutModel",
            "justify_items": null,
            "grid_row": null,
            "max_height": null,
            "align_content": null,
            "visibility": null,
            "align_self": null,
            "height": null,
            "min_height": null,
            "padding": null,
            "grid_auto_rows": null,
            "grid_gap": null,
            "max_width": null,
            "order": null,
            "_view_module_version": "1.2.0",
            "grid_template_areas": null,
            "object_position": null,
            "object_fit": null,
            "grid_auto_columns": null,
            "margin": null,
            "display": null,
            "left": null
          }
        },
        "dd4a1bd1a69e48e3ad8456085be1b427": {
          "model_module": "@jupyter-widgets/controls",
          "model_name": "HBoxModel",
          "state": {
            "_view_name": "HBoxView",
            "_dom_classes": [],
            "_model_name": "HBoxModel",
            "_view_module": "@jupyter-widgets/controls",
            "_model_module_version": "1.5.0",
            "_view_count": null,
            "_view_module_version": "1.5.0",
            "box_style": "",
            "layout": "IPY_MODEL_81b6c68f552e4516bbcf99c9895eee72",
            "_model_module": "@jupyter-widgets/controls",
            "children": [
              "IPY_MODEL_73d90b3f1936402487e4b7fd8f438c5c",
              "IPY_MODEL_783fd95e88ab4053939bc2a12c0962a3"
            ]
          }
        },
        "81b6c68f552e4516bbcf99c9895eee72": {
          "model_module": "@jupyter-widgets/base",
          "model_name": "LayoutModel",
          "state": {
            "_view_name": "LayoutView",
            "grid_template_rows": null,
            "right": null,
            "justify_content": null,
            "_view_module": "@jupyter-widgets/base",
            "overflow": null,
            "_model_module_version": "1.2.0",
            "_view_count": null,
            "flex_flow": "row wrap",
            "width": "100%",
            "min_width": null,
            "border": null,
            "align_items": null,
            "bottom": null,
            "_model_module": "@jupyter-widgets/base",
            "top": null,
            "grid_column": null,
            "overflow_y": null,
            "overflow_x": null,
            "grid_auto_flow": null,
            "grid_area": null,
            "grid_template_columns": null,
            "flex": null,
            "_model_name": "LayoutModel",
            "justify_items": null,
            "grid_row": null,
            "max_height": null,
            "align_content": null,
            "visibility": null,
            "align_self": null,
            "height": null,
            "min_height": null,
            "padding": null,
            "grid_auto_rows": null,
            "grid_gap": null,
            "max_width": null,
            "order": null,
            "_view_module_version": "1.2.0",
            "grid_template_areas": null,
            "object_position": null,
            "object_fit": null,
            "grid_auto_columns": null,
            "margin": null,
            "display": "inline-flex",
            "left": null
          }
        },
        "73d90b3f1936402487e4b7fd8f438c5c": {
          "model_module": "@jupyter-widgets/controls",
          "model_name": "FloatProgressModel",
          "state": {
            "_view_name": "ProgressView",
            "style": "IPY_MODEL_b5e0356bfeba4acc9b65ad736e58f0b9",
            "_dom_classes": [],
            "description": "Epoch 4: 100%",
            "_model_name": "FloatProgressModel",
            "bar_style": "success",
            "max": 5,
            "_view_module": "@jupyter-widgets/controls",
            "_model_module_version": "1.5.0",
            "value": 5,
            "_view_count": null,
            "_view_module_version": "1.5.0",
            "orientation": "horizontal",
            "min": 0,
            "description_tooltip": null,
            "_model_module": "@jupyter-widgets/controls",
            "layout": "IPY_MODEL_bab33590538b40eab8b6fb4411324a3b"
          }
        },
        "783fd95e88ab4053939bc2a12c0962a3": {
          "model_module": "@jupyter-widgets/controls",
          "model_name": "HTMLModel",
          "state": {
            "_view_name": "HTMLView",
            "style": "IPY_MODEL_26868b3bc9a64082b2e7fa1ad8886433",
            "_dom_classes": [],
            "description": "",
            "_model_name": "HTMLModel",
            "placeholder": "​",
            "_view_module": "@jupyter-widgets/controls",
            "_model_module_version": "1.5.0",
            "value": " 5/5 [00:11&lt;00:00,  2.33s/it, loss=8.022, v_num=41]",
            "_view_count": null,
            "_view_module_version": "1.5.0",
            "description_tooltip": null,
            "_model_module": "@jupyter-widgets/controls",
            "layout": "IPY_MODEL_430088005d7841fd9812ca6a41cfdef3"
          }
        },
        "b5e0356bfeba4acc9b65ad736e58f0b9": {
          "model_module": "@jupyter-widgets/controls",
          "model_name": "ProgressStyleModel",
          "state": {
            "_view_name": "StyleView",
            "_model_name": "ProgressStyleModel",
            "description_width": "initial",
            "_view_module": "@jupyter-widgets/base",
            "_model_module_version": "1.5.0",
            "_view_count": null,
            "_view_module_version": "1.2.0",
            "bar_color": null,
            "_model_module": "@jupyter-widgets/controls"
          }
        },
        "bab33590538b40eab8b6fb4411324a3b": {
          "model_module": "@jupyter-widgets/base",
          "model_name": "LayoutModel",
          "state": {
            "_view_name": "LayoutView",
            "grid_template_rows": null,
            "right": null,
            "justify_content": null,
            "_view_module": "@jupyter-widgets/base",
            "overflow": null,
            "_model_module_version": "1.2.0",
            "_view_count": null,
            "flex_flow": null,
            "width": null,
            "min_width": null,
            "border": null,
            "align_items": null,
            "bottom": null,
            "_model_module": "@jupyter-widgets/base",
            "top": null,
            "grid_column": null,
            "overflow_y": null,
            "overflow_x": null,
            "grid_auto_flow": null,
            "grid_area": null,
            "grid_template_columns": null,
            "flex": "2",
            "_model_name": "LayoutModel",
            "justify_items": null,
            "grid_row": null,
            "max_height": null,
            "align_content": null,
            "visibility": null,
            "align_self": null,
            "height": null,
            "min_height": null,
            "padding": null,
            "grid_auto_rows": null,
            "grid_gap": null,
            "max_width": null,
            "order": null,
            "_view_module_version": "1.2.0",
            "grid_template_areas": null,
            "object_position": null,
            "object_fit": null,
            "grid_auto_columns": null,
            "margin": null,
            "display": null,
            "left": null
          }
        },
        "26868b3bc9a64082b2e7fa1ad8886433": {
          "model_module": "@jupyter-widgets/controls",
          "model_name": "DescriptionStyleModel",
          "state": {
            "_view_name": "StyleView",
            "_model_name": "DescriptionStyleModel",
            "description_width": "",
            "_view_module": "@jupyter-widgets/base",
            "_model_module_version": "1.5.0",
            "_view_count": null,
            "_view_module_version": "1.2.0",
            "_model_module": "@jupyter-widgets/controls"
          }
        },
        "430088005d7841fd9812ca6a41cfdef3": {
          "model_module": "@jupyter-widgets/base",
          "model_name": "LayoutModel",
          "state": {
            "_view_name": "LayoutView",
            "grid_template_rows": null,
            "right": null,
            "justify_content": null,
            "_view_module": "@jupyter-widgets/base",
            "overflow": null,
            "_model_module_version": "1.2.0",
            "_view_count": null,
            "flex_flow": null,
            "width": null,
            "min_width": null,
            "border": null,
            "align_items": null,
            "bottom": null,
            "_model_module": "@jupyter-widgets/base",
            "top": null,
            "grid_column": null,
            "overflow_y": null,
            "overflow_x": null,
            "grid_auto_flow": null,
            "grid_area": null,
            "grid_template_columns": null,
            "flex": null,
            "_model_name": "LayoutModel",
            "justify_items": null,
            "grid_row": null,
            "max_height": null,
            "align_content": null,
            "visibility": null,
            "align_self": null,
            "height": null,
            "min_height": null,
            "padding": null,
            "grid_auto_rows": null,
            "grid_gap": null,
            "max_width": null,
            "order": null,
            "_view_module_version": "1.2.0",
            "grid_template_areas": null,
            "object_position": null,
            "object_fit": null,
            "grid_auto_columns": null,
            "margin": null,
            "display": null,
            "left": null
          }
        },
        "82506e81ce1548969d544d64c67f627c": {
          "model_module": "@jupyter-widgets/controls",
          "model_name": "HBoxModel",
          "state": {
            "_view_name": "HBoxView",
            "_dom_classes": [],
            "_model_name": "HBoxModel",
            "_view_module": "@jupyter-widgets/controls",
            "_model_module_version": "1.5.0",
            "_view_count": null,
            "_view_module_version": "1.5.0",
            "box_style": "",
            "layout": "IPY_MODEL_e9f0a534cf674fe2925843c0ed99dced",
            "_model_module": "@jupyter-widgets/controls",
            "children": [
              "IPY_MODEL_6aed3adf2d814c3d845672b0e751dd42",
              "IPY_MODEL_d822db9f1ef343a598a7462ea7ccd038"
            ]
          }
        },
        "e9f0a534cf674fe2925843c0ed99dced": {
          "model_module": "@jupyter-widgets/base",
          "model_name": "LayoutModel",
          "state": {
            "_view_name": "LayoutView",
            "grid_template_rows": null,
            "right": null,
            "justify_content": null,
            "_view_module": "@jupyter-widgets/base",
            "overflow": null,
            "_model_module_version": "1.2.0",
            "_view_count": null,
            "flex_flow": "row wrap",
            "width": "100%",
            "min_width": null,
            "border": null,
            "align_items": null,
            "bottom": null,
            "_model_module": "@jupyter-widgets/base",
            "top": null,
            "grid_column": null,
            "overflow_y": null,
            "overflow_x": null,
            "grid_auto_flow": null,
            "grid_area": null,
            "grid_template_columns": null,
            "flex": null,
            "_model_name": "LayoutModel",
            "justify_items": null,
            "grid_row": null,
            "max_height": null,
            "align_content": null,
            "visibility": null,
            "align_self": null,
            "height": null,
            "min_height": null,
            "padding": null,
            "grid_auto_rows": null,
            "grid_gap": null,
            "max_width": null,
            "order": null,
            "_view_module_version": "1.2.0",
            "grid_template_areas": null,
            "object_position": null,
            "object_fit": null,
            "grid_auto_columns": null,
            "margin": null,
            "display": "inline-flex",
            "left": null
          }
        },
        "6aed3adf2d814c3d845672b0e751dd42": {
          "model_module": "@jupyter-widgets/controls",
          "model_name": "FloatProgressModel",
          "state": {
            "_view_name": "ProgressView",
            "style": "IPY_MODEL_ccde9279728f451f9813232909ad0a03",
            "_dom_classes": [],
            "description": "Validating: 100%",
            "_model_name": "FloatProgressModel",
            "bar_style": "info",
            "max": 1,
            "_view_module": "@jupyter-widgets/controls",
            "_model_module_version": "1.5.0",
            "value": 1,
            "_view_count": null,
            "_view_module_version": "1.5.0",
            "orientation": "horizontal",
            "min": 0,
            "description_tooltip": null,
            "_model_module": "@jupyter-widgets/controls",
            "layout": "IPY_MODEL_9befe47723bf49a0ab9ee6b699242a23"
          }
        },
        "d822db9f1ef343a598a7462ea7ccd038": {
          "model_module": "@jupyter-widgets/controls",
          "model_name": "HTMLModel",
          "state": {
            "_view_name": "HTMLView",
            "style": "IPY_MODEL_36a9dce888884179baa1262688ef5585",
            "_dom_classes": [],
            "description": "",
            "_model_name": "HTMLModel",
            "placeholder": "​",
            "_view_module": "@jupyter-widgets/controls",
            "_model_module_version": "1.5.0",
            "value": " 1/1 [00:03&lt;00:00,  1.07s/it]",
            "_view_count": null,
            "_view_module_version": "1.5.0",
            "description_tooltip": null,
            "_model_module": "@jupyter-widgets/controls",
            "layout": "IPY_MODEL_6b04e56adc7c4aad80354466204326df"
          }
        },
        "ccde9279728f451f9813232909ad0a03": {
          "model_module": "@jupyter-widgets/controls",
          "model_name": "ProgressStyleModel",
          "state": {
            "_view_name": "StyleView",
            "_model_name": "ProgressStyleModel",
            "description_width": "initial",
            "_view_module": "@jupyter-widgets/base",
            "_model_module_version": "1.5.0",
            "_view_count": null,
            "_view_module_version": "1.2.0",
            "bar_color": null,
            "_model_module": "@jupyter-widgets/controls"
          }
        },
        "9befe47723bf49a0ab9ee6b699242a23": {
          "model_module": "@jupyter-widgets/base",
          "model_name": "LayoutModel",
          "state": {
            "_view_name": "LayoutView",
            "grid_template_rows": null,
            "right": null,
            "justify_content": null,
            "_view_module": "@jupyter-widgets/base",
            "overflow": null,
            "_model_module_version": "1.2.0",
            "_view_count": null,
            "flex_flow": null,
            "width": null,
            "min_width": null,
            "border": null,
            "align_items": null,
            "bottom": null,
            "_model_module": "@jupyter-widgets/base",
            "top": null,
            "grid_column": null,
            "overflow_y": null,
            "overflow_x": null,
            "grid_auto_flow": null,
            "grid_area": null,
            "grid_template_columns": null,
            "flex": "2",
            "_model_name": "LayoutModel",
            "justify_items": null,
            "grid_row": null,
            "max_height": null,
            "align_content": null,
            "visibility": null,
            "align_self": null,
            "height": null,
            "min_height": null,
            "padding": null,
            "grid_auto_rows": null,
            "grid_gap": null,
            "max_width": null,
            "order": null,
            "_view_module_version": "1.2.0",
            "grid_template_areas": null,
            "object_position": null,
            "object_fit": null,
            "grid_auto_columns": null,
            "margin": null,
            "display": null,
            "left": null
          }
        },
        "36a9dce888884179baa1262688ef5585": {
          "model_module": "@jupyter-widgets/controls",
          "model_name": "DescriptionStyleModel",
          "state": {
            "_view_name": "StyleView",
            "_model_name": "DescriptionStyleModel",
            "description_width": "",
            "_view_module": "@jupyter-widgets/base",
            "_model_module_version": "1.5.0",
            "_view_count": null,
            "_view_module_version": "1.2.0",
            "_model_module": "@jupyter-widgets/controls"
          }
        },
        "6b04e56adc7c4aad80354466204326df": {
          "model_module": "@jupyter-widgets/base",
          "model_name": "LayoutModel",
          "state": {
            "_view_name": "LayoutView",
            "grid_template_rows": null,
            "right": null,
            "justify_content": null,
            "_view_module": "@jupyter-widgets/base",
            "overflow": null,
            "_model_module_version": "1.2.0",
            "_view_count": null,
            "flex_flow": null,
            "width": null,
            "min_width": null,
            "border": null,
            "align_items": null,
            "bottom": null,
            "_model_module": "@jupyter-widgets/base",
            "top": null,
            "grid_column": null,
            "overflow_y": null,
            "overflow_x": null,
            "grid_auto_flow": null,
            "grid_area": null,
            "grid_template_columns": null,
            "flex": null,
            "_model_name": "LayoutModel",
            "justify_items": null,
            "grid_row": null,
            "max_height": null,
            "align_content": null,
            "visibility": null,
            "align_self": null,
            "height": null,
            "min_height": null,
            "padding": null,
            "grid_auto_rows": null,
            "grid_gap": null,
            "max_width": null,
            "order": null,
            "_view_module_version": "1.2.0",
            "grid_template_areas": null,
            "object_position": null,
            "object_fit": null,
            "grid_auto_columns": null,
            "margin": null,
            "display": null,
            "left": null
          }
        },
        "c229b41bc050480fb77c59562b1cc5d2": {
          "model_module": "@jupyter-widgets/controls",
          "model_name": "HBoxModel",
          "state": {
            "_view_name": "HBoxView",
            "_dom_classes": [],
            "_model_name": "HBoxModel",
            "_view_module": "@jupyter-widgets/controls",
            "_model_module_version": "1.5.0",
            "_view_count": null,
            "_view_module_version": "1.5.0",
            "box_style": "",
            "layout": "IPY_MODEL_d4b019f826b8415e9ce10d437f97f24c",
            "_model_module": "@jupyter-widgets/controls",
            "children": [
              "IPY_MODEL_b3bf0d6e37984d28b5d97a580ec901f1",
              "IPY_MODEL_13e66e38d6ae48a29af8e60898b89496"
            ]
          }
        },
        "d4b019f826b8415e9ce10d437f97f24c": {
          "model_module": "@jupyter-widgets/base",
          "model_name": "LayoutModel",
          "state": {
            "_view_name": "LayoutView",
            "grid_template_rows": null,
            "right": null,
            "justify_content": null,
            "_view_module": "@jupyter-widgets/base",
            "overflow": null,
            "_model_module_version": "1.2.0",
            "_view_count": null,
            "flex_flow": "row wrap",
            "width": "100%",
            "min_width": null,
            "border": null,
            "align_items": null,
            "bottom": null,
            "_model_module": "@jupyter-widgets/base",
            "top": null,
            "grid_column": null,
            "overflow_y": null,
            "overflow_x": null,
            "grid_auto_flow": null,
            "grid_area": null,
            "grid_template_columns": null,
            "flex": null,
            "_model_name": "LayoutModel",
            "justify_items": null,
            "grid_row": null,
            "max_height": null,
            "align_content": null,
            "visibility": null,
            "align_self": null,
            "height": null,
            "min_height": null,
            "padding": null,
            "grid_auto_rows": null,
            "grid_gap": null,
            "max_width": null,
            "order": null,
            "_view_module_version": "1.2.0",
            "grid_template_areas": null,
            "object_position": null,
            "object_fit": null,
            "grid_auto_columns": null,
            "margin": null,
            "display": "inline-flex",
            "left": null
          }
        },
        "b3bf0d6e37984d28b5d97a580ec901f1": {
          "model_module": "@jupyter-widgets/controls",
          "model_name": "FloatProgressModel",
          "state": {
            "_view_name": "ProgressView",
            "style": "IPY_MODEL_e4b436cd37324938bb6d3acbbaa1fb0f",
            "_dom_classes": [],
            "description": "Validating: 100%",
            "_model_name": "FloatProgressModel",
            "bar_style": "info",
            "max": 1,
            "_view_module": "@jupyter-widgets/controls",
            "_model_module_version": "1.5.0",
            "value": 1,
            "_view_count": null,
            "_view_module_version": "1.5.0",
            "orientation": "horizontal",
            "min": 0,
            "description_tooltip": null,
            "_model_module": "@jupyter-widgets/controls",
            "layout": "IPY_MODEL_5659c27373c54406bb24035f5ba68612"
          }
        },
        "13e66e38d6ae48a29af8e60898b89496": {
          "model_module": "@jupyter-widgets/controls",
          "model_name": "HTMLModel",
          "state": {
            "_view_name": "HTMLView",
            "style": "IPY_MODEL_9212612536c2478097cede8144d56b2b",
            "_dom_classes": [],
            "description": "",
            "_model_name": "HTMLModel",
            "placeholder": "​",
            "_view_module": "@jupyter-widgets/controls",
            "_model_module_version": "1.5.0",
            "value": " 1/1 [00:03&lt;00:00,  1.31s/it]",
            "_view_count": null,
            "_view_module_version": "1.5.0",
            "description_tooltip": null,
            "_model_module": "@jupyter-widgets/controls",
            "layout": "IPY_MODEL_9391c4a4d55d4684a28a94fcf05da77c"
          }
        },
        "e4b436cd37324938bb6d3acbbaa1fb0f": {
          "model_module": "@jupyter-widgets/controls",
          "model_name": "ProgressStyleModel",
          "state": {
            "_view_name": "StyleView",
            "_model_name": "ProgressStyleModel",
            "description_width": "initial",
            "_view_module": "@jupyter-widgets/base",
            "_model_module_version": "1.5.0",
            "_view_count": null,
            "_view_module_version": "1.2.0",
            "bar_color": null,
            "_model_module": "@jupyter-widgets/controls"
          }
        },
        "5659c27373c54406bb24035f5ba68612": {
          "model_module": "@jupyter-widgets/base",
          "model_name": "LayoutModel",
          "state": {
            "_view_name": "LayoutView",
            "grid_template_rows": null,
            "right": null,
            "justify_content": null,
            "_view_module": "@jupyter-widgets/base",
            "overflow": null,
            "_model_module_version": "1.2.0",
            "_view_count": null,
            "flex_flow": null,
            "width": null,
            "min_width": null,
            "border": null,
            "align_items": null,
            "bottom": null,
            "_model_module": "@jupyter-widgets/base",
            "top": null,
            "grid_column": null,
            "overflow_y": null,
            "overflow_x": null,
            "grid_auto_flow": null,
            "grid_area": null,
            "grid_template_columns": null,
            "flex": "2",
            "_model_name": "LayoutModel",
            "justify_items": null,
            "grid_row": null,
            "max_height": null,
            "align_content": null,
            "visibility": null,
            "align_self": null,
            "height": null,
            "min_height": null,
            "padding": null,
            "grid_auto_rows": null,
            "grid_gap": null,
            "max_width": null,
            "order": null,
            "_view_module_version": "1.2.0",
            "grid_template_areas": null,
            "object_position": null,
            "object_fit": null,
            "grid_auto_columns": null,
            "margin": null,
            "display": null,
            "left": null
          }
        },
        "9212612536c2478097cede8144d56b2b": {
          "model_module": "@jupyter-widgets/controls",
          "model_name": "DescriptionStyleModel",
          "state": {
            "_view_name": "StyleView",
            "_model_name": "DescriptionStyleModel",
            "description_width": "",
            "_view_module": "@jupyter-widgets/base",
            "_model_module_version": "1.5.0",
            "_view_count": null,
            "_view_module_version": "1.2.0",
            "_model_module": "@jupyter-widgets/controls"
          }
        },
        "9391c4a4d55d4684a28a94fcf05da77c": {
          "model_module": "@jupyter-widgets/base",
          "model_name": "LayoutModel",
          "state": {
            "_view_name": "LayoutView",
            "grid_template_rows": null,
            "right": null,
            "justify_content": null,
            "_view_module": "@jupyter-widgets/base",
            "overflow": null,
            "_model_module_version": "1.2.0",
            "_view_count": null,
            "flex_flow": null,
            "width": null,
            "min_width": null,
            "border": null,
            "align_items": null,
            "bottom": null,
            "_model_module": "@jupyter-widgets/base",
            "top": null,
            "grid_column": null,
            "overflow_y": null,
            "overflow_x": null,
            "grid_auto_flow": null,
            "grid_area": null,
            "grid_template_columns": null,
            "flex": null,
            "_model_name": "LayoutModel",
            "justify_items": null,
            "grid_row": null,
            "max_height": null,
            "align_content": null,
            "visibility": null,
            "align_self": null,
            "height": null,
            "min_height": null,
            "padding": null,
            "grid_auto_rows": null,
            "grid_gap": null,
            "max_width": null,
            "order": null,
            "_view_module_version": "1.2.0",
            "grid_template_areas": null,
            "object_position": null,
            "object_fit": null,
            "grid_auto_columns": null,
            "margin": null,
            "display": null,
            "left": null
          }
        },
        "04703cd5d3b2476bb4468fd02a6a6b34": {
          "model_module": "@jupyter-widgets/controls",
          "model_name": "HBoxModel",
          "state": {
            "_view_name": "HBoxView",
            "_dom_classes": [],
            "_model_name": "HBoxModel",
            "_view_module": "@jupyter-widgets/controls",
            "_model_module_version": "1.5.0",
            "_view_count": null,
            "_view_module_version": "1.5.0",
            "box_style": "",
            "layout": "IPY_MODEL_7026704c8304478da00fcf09c92328ac",
            "_model_module": "@jupyter-widgets/controls",
            "children": [
              "IPY_MODEL_0d0137ea591e42adba4e85f9b42ec8f5",
              "IPY_MODEL_1ad35133b2274de4b3383187d67ce599"
            ]
          }
        },
        "7026704c8304478da00fcf09c92328ac": {
          "model_module": "@jupyter-widgets/base",
          "model_name": "LayoutModel",
          "state": {
            "_view_name": "LayoutView",
            "grid_template_rows": null,
            "right": null,
            "justify_content": null,
            "_view_module": "@jupyter-widgets/base",
            "overflow": null,
            "_model_module_version": "1.2.0",
            "_view_count": null,
            "flex_flow": "row wrap",
            "width": "100%",
            "min_width": null,
            "border": null,
            "align_items": null,
            "bottom": null,
            "_model_module": "@jupyter-widgets/base",
            "top": null,
            "grid_column": null,
            "overflow_y": null,
            "overflow_x": null,
            "grid_auto_flow": null,
            "grid_area": null,
            "grid_template_columns": null,
            "flex": null,
            "_model_name": "LayoutModel",
            "justify_items": null,
            "grid_row": null,
            "max_height": null,
            "align_content": null,
            "visibility": null,
            "align_self": null,
            "height": null,
            "min_height": null,
            "padding": null,
            "grid_auto_rows": null,
            "grid_gap": null,
            "max_width": null,
            "order": null,
            "_view_module_version": "1.2.0",
            "grid_template_areas": null,
            "object_position": null,
            "object_fit": null,
            "grid_auto_columns": null,
            "margin": null,
            "display": "inline-flex",
            "left": null
          }
        },
        "0d0137ea591e42adba4e85f9b42ec8f5": {
          "model_module": "@jupyter-widgets/controls",
          "model_name": "FloatProgressModel",
          "state": {
            "_view_name": "ProgressView",
            "style": "IPY_MODEL_4f98f971eae7451fa2e251db3162900c",
            "_dom_classes": [],
            "description": "Validating: 100%",
            "_model_name": "FloatProgressModel",
            "bar_style": "info",
            "max": 1,
            "_view_module": "@jupyter-widgets/controls",
            "_model_module_version": "1.5.0",
            "value": 1,
            "_view_count": null,
            "_view_module_version": "1.5.0",
            "orientation": "horizontal",
            "min": 0,
            "description_tooltip": null,
            "_model_module": "@jupyter-widgets/controls",
            "layout": "IPY_MODEL_aa62459026d141a7befe9dd6f122d8c0"
          }
        },
        "1ad35133b2274de4b3383187d67ce599": {
          "model_module": "@jupyter-widgets/controls",
          "model_name": "HTMLModel",
          "state": {
            "_view_name": "HTMLView",
            "style": "IPY_MODEL_77a5ed99988b4b458ea26f5bd8356904",
            "_dom_classes": [],
            "description": "",
            "_model_name": "HTMLModel",
            "placeholder": "​",
            "_view_module": "@jupyter-widgets/controls",
            "_model_module_version": "1.5.0",
            "value": " 1/1 [00:03&lt;00:00,  1.15s/it]",
            "_view_count": null,
            "_view_module_version": "1.5.0",
            "description_tooltip": null,
            "_model_module": "@jupyter-widgets/controls",
            "layout": "IPY_MODEL_e5ac6b43c41c42b0b17e4acde9601964"
          }
        },
        "4f98f971eae7451fa2e251db3162900c": {
          "model_module": "@jupyter-widgets/controls",
          "model_name": "ProgressStyleModel",
          "state": {
            "_view_name": "StyleView",
            "_model_name": "ProgressStyleModel",
            "description_width": "initial",
            "_view_module": "@jupyter-widgets/base",
            "_model_module_version": "1.5.0",
            "_view_count": null,
            "_view_module_version": "1.2.0",
            "bar_color": null,
            "_model_module": "@jupyter-widgets/controls"
          }
        },
        "aa62459026d141a7befe9dd6f122d8c0": {
          "model_module": "@jupyter-widgets/base",
          "model_name": "LayoutModel",
          "state": {
            "_view_name": "LayoutView",
            "grid_template_rows": null,
            "right": null,
            "justify_content": null,
            "_view_module": "@jupyter-widgets/base",
            "overflow": null,
            "_model_module_version": "1.2.0",
            "_view_count": null,
            "flex_flow": null,
            "width": null,
            "min_width": null,
            "border": null,
            "align_items": null,
            "bottom": null,
            "_model_module": "@jupyter-widgets/base",
            "top": null,
            "grid_column": null,
            "overflow_y": null,
            "overflow_x": null,
            "grid_auto_flow": null,
            "grid_area": null,
            "grid_template_columns": null,
            "flex": "2",
            "_model_name": "LayoutModel",
            "justify_items": null,
            "grid_row": null,
            "max_height": null,
            "align_content": null,
            "visibility": null,
            "align_self": null,
            "height": null,
            "min_height": null,
            "padding": null,
            "grid_auto_rows": null,
            "grid_gap": null,
            "max_width": null,
            "order": null,
            "_view_module_version": "1.2.0",
            "grid_template_areas": null,
            "object_position": null,
            "object_fit": null,
            "grid_auto_columns": null,
            "margin": null,
            "display": null,
            "left": null
          }
        },
        "77a5ed99988b4b458ea26f5bd8356904": {
          "model_module": "@jupyter-widgets/controls",
          "model_name": "DescriptionStyleModel",
          "state": {
            "_view_name": "StyleView",
            "_model_name": "DescriptionStyleModel",
            "description_width": "",
            "_view_module": "@jupyter-widgets/base",
            "_model_module_version": "1.5.0",
            "_view_count": null,
            "_view_module_version": "1.2.0",
            "_model_module": "@jupyter-widgets/controls"
          }
        },
        "e5ac6b43c41c42b0b17e4acde9601964": {
          "model_module": "@jupyter-widgets/base",
          "model_name": "LayoutModel",
          "state": {
            "_view_name": "LayoutView",
            "grid_template_rows": null,
            "right": null,
            "justify_content": null,
            "_view_module": "@jupyter-widgets/base",
            "overflow": null,
            "_model_module_version": "1.2.0",
            "_view_count": null,
            "flex_flow": null,
            "width": null,
            "min_width": null,
            "border": null,
            "align_items": null,
            "bottom": null,
            "_model_module": "@jupyter-widgets/base",
            "top": null,
            "grid_column": null,
            "overflow_y": null,
            "overflow_x": null,
            "grid_auto_flow": null,
            "grid_area": null,
            "grid_template_columns": null,
            "flex": null,
            "_model_name": "LayoutModel",
            "justify_items": null,
            "grid_row": null,
            "max_height": null,
            "align_content": null,
            "visibility": null,
            "align_self": null,
            "height": null,
            "min_height": null,
            "padding": null,
            "grid_auto_rows": null,
            "grid_gap": null,
            "max_width": null,
            "order": null,
            "_view_module_version": "1.2.0",
            "grid_template_areas": null,
            "object_position": null,
            "object_fit": null,
            "grid_auto_columns": null,
            "margin": null,
            "display": null,
            "left": null
          }
        },
        "d78164d413584e639ce0e659b1f6fa36": {
          "model_module": "@jupyter-widgets/controls",
          "model_name": "HBoxModel",
          "state": {
            "_view_name": "HBoxView",
            "_dom_classes": [],
            "_model_name": "HBoxModel",
            "_view_module": "@jupyter-widgets/controls",
            "_model_module_version": "1.5.0",
            "_view_count": null,
            "_view_module_version": "1.5.0",
            "box_style": "",
            "layout": "IPY_MODEL_e199d4f0ddf54a3bbc366ad4d77a0f1b",
            "_model_module": "@jupyter-widgets/controls",
            "children": [
              "IPY_MODEL_5c93fdb43efc40da98068216583a38e1",
              "IPY_MODEL_6869b97d89a04c11a9eb3d57cd8503f2"
            ]
          }
        },
        "e199d4f0ddf54a3bbc366ad4d77a0f1b": {
          "model_module": "@jupyter-widgets/base",
          "model_name": "LayoutModel",
          "state": {
            "_view_name": "LayoutView",
            "grid_template_rows": null,
            "right": null,
            "justify_content": null,
            "_view_module": "@jupyter-widgets/base",
            "overflow": null,
            "_model_module_version": "1.2.0",
            "_view_count": null,
            "flex_flow": "row wrap",
            "width": "100%",
            "min_width": null,
            "border": null,
            "align_items": null,
            "bottom": null,
            "_model_module": "@jupyter-widgets/base",
            "top": null,
            "grid_column": null,
            "overflow_y": null,
            "overflow_x": null,
            "grid_auto_flow": null,
            "grid_area": null,
            "grid_template_columns": null,
            "flex": null,
            "_model_name": "LayoutModel",
            "justify_items": null,
            "grid_row": null,
            "max_height": null,
            "align_content": null,
            "visibility": null,
            "align_self": null,
            "height": null,
            "min_height": null,
            "padding": null,
            "grid_auto_rows": null,
            "grid_gap": null,
            "max_width": null,
            "order": null,
            "_view_module_version": "1.2.0",
            "grid_template_areas": null,
            "object_position": null,
            "object_fit": null,
            "grid_auto_columns": null,
            "margin": null,
            "display": "inline-flex",
            "left": null
          }
        },
        "5c93fdb43efc40da98068216583a38e1": {
          "model_module": "@jupyter-widgets/controls",
          "model_name": "FloatProgressModel",
          "state": {
            "_view_name": "ProgressView",
            "style": "IPY_MODEL_3a240fcee7ab43a2ac66c1e7fd067d11",
            "_dom_classes": [],
            "description": "Validating: 100%",
            "_model_name": "FloatProgressModel",
            "bar_style": "info",
            "max": 1,
            "_view_module": "@jupyter-widgets/controls",
            "_model_module_version": "1.5.0",
            "value": 1,
            "_view_count": null,
            "_view_module_version": "1.5.0",
            "orientation": "horizontal",
            "min": 0,
            "description_tooltip": null,
            "_model_module": "@jupyter-widgets/controls",
            "layout": "IPY_MODEL_6065af01813b42cf801e2dd19210225d"
          }
        },
        "6869b97d89a04c11a9eb3d57cd8503f2": {
          "model_module": "@jupyter-widgets/controls",
          "model_name": "HTMLModel",
          "state": {
            "_view_name": "HTMLView",
            "style": "IPY_MODEL_4c8a2182d76b479b8a7c70d80e68fe8c",
            "_dom_classes": [],
            "description": "",
            "_model_name": "HTMLModel",
            "placeholder": "​",
            "_view_module": "@jupyter-widgets/controls",
            "_model_module_version": "1.5.0",
            "value": " 1/1 [00:03&lt;00:00,  1.19s/it]",
            "_view_count": null,
            "_view_module_version": "1.5.0",
            "description_tooltip": null,
            "_model_module": "@jupyter-widgets/controls",
            "layout": "IPY_MODEL_6d4416e89d864644b496bf079d97ac68"
          }
        },
        "3a240fcee7ab43a2ac66c1e7fd067d11": {
          "model_module": "@jupyter-widgets/controls",
          "model_name": "ProgressStyleModel",
          "state": {
            "_view_name": "StyleView",
            "_model_name": "ProgressStyleModel",
            "description_width": "initial",
            "_view_module": "@jupyter-widgets/base",
            "_model_module_version": "1.5.0",
            "_view_count": null,
            "_view_module_version": "1.2.0",
            "bar_color": null,
            "_model_module": "@jupyter-widgets/controls"
          }
        },
        "6065af01813b42cf801e2dd19210225d": {
          "model_module": "@jupyter-widgets/base",
          "model_name": "LayoutModel",
          "state": {
            "_view_name": "LayoutView",
            "grid_template_rows": null,
            "right": null,
            "justify_content": null,
            "_view_module": "@jupyter-widgets/base",
            "overflow": null,
            "_model_module_version": "1.2.0",
            "_view_count": null,
            "flex_flow": null,
            "width": null,
            "min_width": null,
            "border": null,
            "align_items": null,
            "bottom": null,
            "_model_module": "@jupyter-widgets/base",
            "top": null,
            "grid_column": null,
            "overflow_y": null,
            "overflow_x": null,
            "grid_auto_flow": null,
            "grid_area": null,
            "grid_template_columns": null,
            "flex": "2",
            "_model_name": "LayoutModel",
            "justify_items": null,
            "grid_row": null,
            "max_height": null,
            "align_content": null,
            "visibility": null,
            "align_self": null,
            "height": null,
            "min_height": null,
            "padding": null,
            "grid_auto_rows": null,
            "grid_gap": null,
            "max_width": null,
            "order": null,
            "_view_module_version": "1.2.0",
            "grid_template_areas": null,
            "object_position": null,
            "object_fit": null,
            "grid_auto_columns": null,
            "margin": null,
            "display": null,
            "left": null
          }
        },
        "4c8a2182d76b479b8a7c70d80e68fe8c": {
          "model_module": "@jupyter-widgets/controls",
          "model_name": "DescriptionStyleModel",
          "state": {
            "_view_name": "StyleView",
            "_model_name": "DescriptionStyleModel",
            "description_width": "",
            "_view_module": "@jupyter-widgets/base",
            "_model_module_version": "1.5.0",
            "_view_count": null,
            "_view_module_version": "1.2.0",
            "_model_module": "@jupyter-widgets/controls"
          }
        },
        "6d4416e89d864644b496bf079d97ac68": {
          "model_module": "@jupyter-widgets/base",
          "model_name": "LayoutModel",
          "state": {
            "_view_name": "LayoutView",
            "grid_template_rows": null,
            "right": null,
            "justify_content": null,
            "_view_module": "@jupyter-widgets/base",
            "overflow": null,
            "_model_module_version": "1.2.0",
            "_view_count": null,
            "flex_flow": null,
            "width": null,
            "min_width": null,
            "border": null,
            "align_items": null,
            "bottom": null,
            "_model_module": "@jupyter-widgets/base",
            "top": null,
            "grid_column": null,
            "overflow_y": null,
            "overflow_x": null,
            "grid_auto_flow": null,
            "grid_area": null,
            "grid_template_columns": null,
            "flex": null,
            "_model_name": "LayoutModel",
            "justify_items": null,
            "grid_row": null,
            "max_height": null,
            "align_content": null,
            "visibility": null,
            "align_self": null,
            "height": null,
            "min_height": null,
            "padding": null,
            "grid_auto_rows": null,
            "grid_gap": null,
            "max_width": null,
            "order": null,
            "_view_module_version": "1.2.0",
            "grid_template_areas": null,
            "object_position": null,
            "object_fit": null,
            "grid_auto_columns": null,
            "margin": null,
            "display": null,
            "left": null
          }
        },
        "ce898d9dc8c6485c9a90526989925bbc": {
          "model_module": "@jupyter-widgets/controls",
          "model_name": "HBoxModel",
          "state": {
            "_view_name": "HBoxView",
            "_dom_classes": [],
            "_model_name": "HBoxModel",
            "_view_module": "@jupyter-widgets/controls",
            "_model_module_version": "1.5.0",
            "_view_count": null,
            "_view_module_version": "1.5.0",
            "box_style": "",
            "layout": "IPY_MODEL_b05eab7143e34ca5873d834377065aea",
            "_model_module": "@jupyter-widgets/controls",
            "children": [
              "IPY_MODEL_f7232b00dfa04f0cb11219191f62044a",
              "IPY_MODEL_daef49ef4e6e47ffa2619b5a65d63a5f"
            ]
          }
        },
        "b05eab7143e34ca5873d834377065aea": {
          "model_module": "@jupyter-widgets/base",
          "model_name": "LayoutModel",
          "state": {
            "_view_name": "LayoutView",
            "grid_template_rows": null,
            "right": null,
            "justify_content": null,
            "_view_module": "@jupyter-widgets/base",
            "overflow": null,
            "_model_module_version": "1.2.0",
            "_view_count": null,
            "flex_flow": "row wrap",
            "width": "100%",
            "min_width": null,
            "border": null,
            "align_items": null,
            "bottom": null,
            "_model_module": "@jupyter-widgets/base",
            "top": null,
            "grid_column": null,
            "overflow_y": null,
            "overflow_x": null,
            "grid_auto_flow": null,
            "grid_area": null,
            "grid_template_columns": null,
            "flex": null,
            "_model_name": "LayoutModel",
            "justify_items": null,
            "grid_row": null,
            "max_height": null,
            "align_content": null,
            "visibility": null,
            "align_self": null,
            "height": null,
            "min_height": null,
            "padding": null,
            "grid_auto_rows": null,
            "grid_gap": null,
            "max_width": null,
            "order": null,
            "_view_module_version": "1.2.0",
            "grid_template_areas": null,
            "object_position": null,
            "object_fit": null,
            "grid_auto_columns": null,
            "margin": null,
            "display": "inline-flex",
            "left": null
          }
        },
        "f7232b00dfa04f0cb11219191f62044a": {
          "model_module": "@jupyter-widgets/controls",
          "model_name": "FloatProgressModel",
          "state": {
            "_view_name": "ProgressView",
            "style": "IPY_MODEL_408a2e520e5e43adbb0c66d559c43c13",
            "_dom_classes": [],
            "description": "Validating: 100%",
            "_model_name": "FloatProgressModel",
            "bar_style": "info",
            "max": 1,
            "_view_module": "@jupyter-widgets/controls",
            "_model_module_version": "1.5.0",
            "value": 1,
            "_view_count": null,
            "_view_module_version": "1.5.0",
            "orientation": "horizontal",
            "min": 0,
            "description_tooltip": null,
            "_model_module": "@jupyter-widgets/controls",
            "layout": "IPY_MODEL_375fcbb1edac40f8882a70ab5de68806"
          }
        },
        "daef49ef4e6e47ffa2619b5a65d63a5f": {
          "model_module": "@jupyter-widgets/controls",
          "model_name": "HTMLModel",
          "state": {
            "_view_name": "HTMLView",
            "style": "IPY_MODEL_bc212a95692b420ab9e14ee6e83e69ab",
            "_dom_classes": [],
            "description": "",
            "_model_name": "HTMLModel",
            "placeholder": "​",
            "_view_module": "@jupyter-widgets/controls",
            "_model_module_version": "1.5.0",
            "value": " 1/1 [00:03&lt;00:00,  1.10s/it]",
            "_view_count": null,
            "_view_module_version": "1.5.0",
            "description_tooltip": null,
            "_model_module": "@jupyter-widgets/controls",
            "layout": "IPY_MODEL_e439d97458444270a87d8342c08c245d"
          }
        },
        "408a2e520e5e43adbb0c66d559c43c13": {
          "model_module": "@jupyter-widgets/controls",
          "model_name": "ProgressStyleModel",
          "state": {
            "_view_name": "StyleView",
            "_model_name": "ProgressStyleModel",
            "description_width": "initial",
            "_view_module": "@jupyter-widgets/base",
            "_model_module_version": "1.5.0",
            "_view_count": null,
            "_view_module_version": "1.2.0",
            "bar_color": null,
            "_model_module": "@jupyter-widgets/controls"
          }
        },
        "375fcbb1edac40f8882a70ab5de68806": {
          "model_module": "@jupyter-widgets/base",
          "model_name": "LayoutModel",
          "state": {
            "_view_name": "LayoutView",
            "grid_template_rows": null,
            "right": null,
            "justify_content": null,
            "_view_module": "@jupyter-widgets/base",
            "overflow": null,
            "_model_module_version": "1.2.0",
            "_view_count": null,
            "flex_flow": null,
            "width": null,
            "min_width": null,
            "border": null,
            "align_items": null,
            "bottom": null,
            "_model_module": "@jupyter-widgets/base",
            "top": null,
            "grid_column": null,
            "overflow_y": null,
            "overflow_x": null,
            "grid_auto_flow": null,
            "grid_area": null,
            "grid_template_columns": null,
            "flex": "2",
            "_model_name": "LayoutModel",
            "justify_items": null,
            "grid_row": null,
            "max_height": null,
            "align_content": null,
            "visibility": null,
            "align_self": null,
            "height": null,
            "min_height": null,
            "padding": null,
            "grid_auto_rows": null,
            "grid_gap": null,
            "max_width": null,
            "order": null,
            "_view_module_version": "1.2.0",
            "grid_template_areas": null,
            "object_position": null,
            "object_fit": null,
            "grid_auto_columns": null,
            "margin": null,
            "display": null,
            "left": null
          }
        },
        "bc212a95692b420ab9e14ee6e83e69ab": {
          "model_module": "@jupyter-widgets/controls",
          "model_name": "DescriptionStyleModel",
          "state": {
            "_view_name": "StyleView",
            "_model_name": "DescriptionStyleModel",
            "description_width": "",
            "_view_module": "@jupyter-widgets/base",
            "_model_module_version": "1.5.0",
            "_view_count": null,
            "_view_module_version": "1.2.0",
            "_model_module": "@jupyter-widgets/controls"
          }
        },
        "e439d97458444270a87d8342c08c245d": {
          "model_module": "@jupyter-widgets/base",
          "model_name": "LayoutModel",
          "state": {
            "_view_name": "LayoutView",
            "grid_template_rows": null,
            "right": null,
            "justify_content": null,
            "_view_module": "@jupyter-widgets/base",
            "overflow": null,
            "_model_module_version": "1.2.0",
            "_view_count": null,
            "flex_flow": null,
            "width": null,
            "min_width": null,
            "border": null,
            "align_items": null,
            "bottom": null,
            "_model_module": "@jupyter-widgets/base",
            "top": null,
            "grid_column": null,
            "overflow_y": null,
            "overflow_x": null,
            "grid_auto_flow": null,
            "grid_area": null,
            "grid_template_columns": null,
            "flex": null,
            "_model_name": "LayoutModel",
            "justify_items": null,
            "grid_row": null,
            "max_height": null,
            "align_content": null,
            "visibility": null,
            "align_self": null,
            "height": null,
            "min_height": null,
            "padding": null,
            "grid_auto_rows": null,
            "grid_gap": null,
            "max_width": null,
            "order": null,
            "_view_module_version": "1.2.0",
            "grid_template_areas": null,
            "object_position": null,
            "object_fit": null,
            "grid_auto_columns": null,
            "margin": null,
            "display": null,
            "left": null
          }
        }
      }
    }
  },
  "cells": [
    {
      "cell_type": "markdown",
      "metadata": {
        "id": "yGfI8arf1C42"
      },
      "source": [
        "## VIDEO CAPTIONING WITH MSR-VTT DATASET\n",
        "* ### Full dataset is available here:  https://www.mediafire.com/folder/h14iarbs62e7p/shared\n",
        "\n",
        "* ### A trained version of the model can be found here: https://drive.google.com/file/d/1-GfiBd_CfW0IcUNOMpGDwUIReXA_z0sn/view?usp=sharing. This was trained using 5 frames per video, with batch size 128.\n",
        "\n",
        "* ### We have modified the code originally written for image captioning in Assignment 3. Thanks to Ziyan Yang  (zy3cx@virginia.edu)!"
      ]
    },
    {
      "cell_type": "markdown",
      "metadata": {
        "id": "ae-s1I6IOIcj"
      },
      "source": [
        "## Creating a Dataloader"
      ]
    },
    {
      "cell_type": "code",
      "metadata": {
        "colab": {
          "base_uri": "https://localhost:8080/"
        },
        "id": "F6GVlcc0Oygt",
        "outputId": "32ceb146-247d-4391-d7df-10c058ca66eb"
      },
      "source": [
        "from google.colab import drive\n",
        "drive.mount('/content/drive',  force_remount=True)\n",
        "\n",
        "json_file = \"/content/drive/My Drive/Colab Notebooks/Vision Project/train_val_annotation/train_val_videodatainfo.json\"\n",
        "video_file = \"/content/drive/My Drive/Colab Notebooks/Vision Project/TrainValVideo/\""
      ],
      "execution_count": 1,
      "outputs": [
        {
          "output_type": "stream",
          "text": [
            "Mounted at /content/drive\n"
          ],
          "name": "stdout"
        }
      ]
    },
    {
      "cell_type": "code",
      "metadata": {
        "colab": {
          "base_uri": "https://localhost:8080/"
        },
        "id": "CoqYWP-dOIck",
        "outputId": "ec18e73a-1bb0-40e9-e1ad-f5b65a722d86"
      },
      "source": [
        "import json\n",
        "import albumentations as alb\n",
        "import torchtext\n",
        "\n",
        "%run DatasetManager.ipynb\n",
        "tokenizer = torchtext.data.Field(sequential = True,\n",
        "                                     init_token = \"<start>\", eos_token = \"<end>\", \n",
        "                                     pad_token = \"<pad>\", unk_token = \"<unk>\",\n",
        "                                     batch_first = True)\n",
        "\n",
        "transform = alb.Compose([\n",
        "    alb.Resize(300, 300, always_apply=True),\n",
        "    alb.CenterCrop(224, 224, always_apply=True),\n",
        "    alb.Normalize(mean = [0.43216, 0.394666, 0.37645],\n",
        "                std = [0.22803, 0.22145, 0.216989], \n",
        "                always_apply=True)\n",
        "])\n",
        "\n",
        "frames = 5\n",
        "\n",
        "# Create dataset classes for training and validation.\n",
        "train_dataset = DatasetManager(tokenizer, 'train', json_file, video_file, \n",
        "                                    12000, video_transform =  transform, frames = frames)\n",
        "\n",
        "train_data_loader = torch.utils.data.DataLoader(train_dataset, \n",
        "                                           batch_size = 128, \n",
        "                                           num_workers = 5,\n",
        "                                           shuffle = True,\n",
        "                                           collate_fn = train_dataset.create_batch)\n",
        "\n",
        "val_dataset = DatasetManager(tokenizer, 'validation', json_file, video_file, \n",
        "                                    12000, video_transform =  transform, frames = frames)\n",
        "\n",
        "val_data_loader = torch.utils.data.DataLoader(val_dataset, \n",
        "                                           batch_size = 128, \n",
        "                                           num_workers = 5,\n",
        "                                           shuffle = False,\n",
        "                                           collate_fn = val_dataset.create_batch)"
      ],
      "execution_count": 13,
      "outputs": [
        {
          "output_type": "stream",
          "text": [
            "100%|██████████| 20000/20000 [00:00<00:00, 68114.45it/s]\n",
            "100%|██████████| 5000/5000 [00:00<00:00, 47653.23it/s]\n"
          ],
          "name": "stderr"
        }
      ]
    },
    {
      "cell_type": "code",
      "metadata": {
        "colab": {
          "base_uri": "https://localhost:8080/"
        },
        "id": "GeE0SEydOIco",
        "outputId": "070b3027-b7b8-4793-ae28-e5e97fdeaa34"
      },
      "source": [
        "(videos, texts, text_lengths) = next(iter(val_data_loader))\n",
        "print(videos.shape, texts.shape, text_lengths)\n",
        "\n",
        "token_id = texts[0].tolist()\n",
        "\n",
        "for id in(token_id):\n",
        "    print(tokenizer.vocab.itos[id], end= ' ')"
      ],
      "execution_count": 14,
      "outputs": [
        {
          "output_type": "stream",
          "text": [
            "torch.Size([128, 5, 3, 224, 224]) torch.Size([128, 27]) [7, 9, 9, 9, 13, 11, 12, 6, 10, 8, 8, 7, 8, 12, 13, 9, 9, 12, 11, 18, 8, 11, 18, 12, 11, 6, 7, 11, 8, 15, 6, 13, 11, 9, 14, 8, 10, 14, 24, 15, 12, 18, 27, 12, 15, 11, 13, 12, 12, 7, 11, 10, 10, 9, 8, 7, 12, 20, 9, 7, 19, 8, 16, 8, 8, 10, 6, 13, 12, 9, 9, 9, 13, 13, 11, 6, 14, 6, 10, 10, 8, 12, 11, 16, 14, 9, 14, 5, 10, 9, 7, 8, 17, 17, 6, 9, 12, 16, 14, 24, 7, 8, 18, 9, 16, 9, 11, 27, 9, 6, 14, 17, 14, 12, 8, 18, 12, 12, 15, 15, 10, 7, 13, 10, 8, 8, 17, 21]\n",
            "<start> scene from a basketball game <end> <pad> <pad> <pad> <pad> <pad> <pad> <pad> <pad> <pad> <pad> <pad> <pad> <pad> <pad> <pad> <pad> <pad> <pad> <pad> <pad> "
          ],
          "name": "stdout"
        }
      ]
    },
    {
      "cell_type": "markdown",
      "metadata": {
        "id": "0a2snJHmOIco"
      },
      "source": [
        "## Checking the Video Encoder"
      ]
    },
    {
      "cell_type": "code",
      "metadata": {
        "colab": {
          "base_uri": "https://localhost:8080/"
        },
        "id": "HXY3qhCnOIco",
        "outputId": "5d35dc44-4105-4d88-e866-bd3b50ece539"
      },
      "source": [
        "%run VideoEncoder.ipynb\n",
        "\n",
        "encoding_size = 300\n",
        "\n",
        "video_encoder = VideoEncoder(encoding_size = encoding_size)\n",
        "video_encoder.eval()\n",
        "encoded_videos = video_encoder(videos)\n",
        "\n",
        "print(encoded_videos.shape)\n",
        "\n",
        "decoder_state_size = encoded_videos.shape[1]"
      ],
      "execution_count": 15,
      "outputs": [
        {
          "output_type": "stream",
          "text": [
            "torch.Size([128, 1500])\n"
          ],
          "name": "stdout"
        }
      ]
    },
    {
      "cell_type": "markdown",
      "metadata": {
        "id": "amRNK7lROIcp"
      },
      "source": [
        "## Checking the Text Decoder"
      ]
    },
    {
      "cell_type": "code",
      "metadata": {
        "colab": {
          "base_uri": "https://localhost:8080/"
        },
        "id": "rcY5yPcSOIcp",
        "outputId": "431b4a28-07cf-4be2-c014-30bd51e6c479"
      },
      "source": [
        "%run TextDecoder.ipynb\n",
        "\n",
        "embedding_size = 300\n",
        "\n",
        "text_decoder = TextDecoder(input_size = embedding_size, state_size = decoder_state_size, vocab_size = len(tokenizer.vocab))\n",
        "sample_input_token = texts[:, 1]\n",
        "batch_size = texts.shape[0]\n",
        "initial_state = text_decoder.dummy_input_state(batch_size)\n",
        "\n",
        "prediction, output_state = text_decoder(initial_state, sample_input_token)\n",
        "\n",
        "print(\"next token prediction: \", prediction.shape)"
      ],
      "execution_count": 16,
      "outputs": [
        {
          "output_type": "stream",
          "text": [
            "next token prediction:  torch.Size([128, 12004])\n"
          ],
          "name": "stdout"
        }
      ]
    },
    {
      "cell_type": "markdown",
      "metadata": {
        "id": "Kt9lpFnOOIcp"
      },
      "source": [
        "## Checking the Untrained Video Captioner"
      ]
    },
    {
      "cell_type": "code",
      "metadata": {
        "colab": {
          "base_uri": "https://localhost:8080/"
        },
        "id": "EwUH7FYVOIcp",
        "outputId": "b63675b7-e0c6-4521-d710-efd35fa58c8d"
      },
      "source": [
        "!pip install pytorch-lightning --quiet\n",
        "\n",
        "%run VideoCaptioner.ipynb\n",
        "\n",
        "def generate_caption(model, video, max_length = 128):\n",
        "\n",
        "    model.eval()\n",
        "    \n",
        "    encoded_video= model.video_encoder(video.unsqueeze(0))\n",
        "    token_id = tokenizer.vocab.stoi[\"<start>\"]\n",
        "\n",
        "    token_texts = \"<start>\"\n",
        "\n",
        "    for i in range(max_length):\n",
        "        input_token = torch.LongTensor([token_id])\n",
        "\n",
        "        if(i==0):\n",
        "            token_scores, state = model.text_decoder((encoded_video,encoded_video), input_token)\n",
        "        else:\n",
        "            token_scores, state = model.text_decoder(state, input_token)  \n",
        "\n",
        "        _ , token_id = token_scores.squeeze(0).max(0)\n",
        "\n",
        "        token_text = tokenizer.vocab.itos[token_id]\n",
        "        token_texts =token_texts + \" \" + token_text\n",
        "\n",
        "        if(token_text == '<end>'):\n",
        "            break\n",
        "\n",
        "    return token_texts\n",
        "\n",
        "video_captioner = VideoCaptioner(tokenizer, embedding_size = embedding_size, state_size = decoder_state_size, encoding_size = encoding_size)\n",
        "\n",
        "video, _ = train_dataset.__getitem__(0)\n",
        "caption = generate_caption(video_captioner, video)\n",
        "\n",
        "print(caption)"
      ],
      "execution_count": 17,
      "outputs": [
        {
          "output_type": "stream",
          "text": [
            "<start> blossom blossom person person sauce murrey spectacular tune tune champions kitty expanse gonna plain returns statement gonna gonna plain expect mothers mothers dodges tune nacho gonna gonna plain returns statement backed gonna gonna yellow gonna plain expect mothers dodges tune nacho gonna gonna plain expect returns gonna statement gonna plain expect mothers dodges tune nacho gonna gonna plain expect returns gonna statement gonna plain expect mothers dodges tune nacho gonna gonna plain expect returns gonna statement gonna plain expect mothers dodges tune nacho gonna gonna plain expect returns gonna statement gonna plain expect mothers dodges tune nacho gonna gonna plain expect returns gonna statement gonna plain expect mothers dodges tune nacho gonna gonna plain expect returns gonna statement gonna plain expect mothers dodges tune nacho gonna gonna plain\n"
          ],
          "name": "stdout"
        }
      ]
    },
    {
      "cell_type": "markdown",
      "metadata": {
        "id": "O-WUf8OPOIcp"
      },
      "source": [
        "## Training the Video Captioner"
      ]
    },
    {
      "cell_type": "code",
      "metadata": {
        "colab": {
          "base_uri": "https://localhost:8080/",
          "height": 677,
          "referenced_widgets": [
            "a050a4af5bfb4880a909fce9d7ccddde",
            "73c14d5252a146e0af0dbc8ada99d5ff",
            "b9e7b4c26b9c4fa58036b9fde2cdbed1",
            "36de28f4231d4ceba08dde6a97b6bc33",
            "26aac1fc2d1543d3ae83a8a5dbc30b2a",
            "1fde098dcab740168092189755ddda63",
            "2dfff9d8d0d347caa4e7acae88248806",
            "27f7247a68504dd98072a05f170a4a4e",
            "dd4a1bd1a69e48e3ad8456085be1b427",
            "81b6c68f552e4516bbcf99c9895eee72",
            "73d90b3f1936402487e4b7fd8f438c5c",
            "783fd95e88ab4053939bc2a12c0962a3",
            "b5e0356bfeba4acc9b65ad736e58f0b9",
            "bab33590538b40eab8b6fb4411324a3b",
            "26868b3bc9a64082b2e7fa1ad8886433",
            "430088005d7841fd9812ca6a41cfdef3",
            "82506e81ce1548969d544d64c67f627c",
            "e9f0a534cf674fe2925843c0ed99dced",
            "6aed3adf2d814c3d845672b0e751dd42",
            "d822db9f1ef343a598a7462ea7ccd038",
            "ccde9279728f451f9813232909ad0a03",
            "9befe47723bf49a0ab9ee6b699242a23",
            "36a9dce888884179baa1262688ef5585",
            "6b04e56adc7c4aad80354466204326df",
            "c229b41bc050480fb77c59562b1cc5d2",
            "d4b019f826b8415e9ce10d437f97f24c",
            "b3bf0d6e37984d28b5d97a580ec901f1",
            "13e66e38d6ae48a29af8e60898b89496",
            "e4b436cd37324938bb6d3acbbaa1fb0f",
            "5659c27373c54406bb24035f5ba68612",
            "9212612536c2478097cede8144d56b2b",
            "9391c4a4d55d4684a28a94fcf05da77c",
            "04703cd5d3b2476bb4468fd02a6a6b34",
            "7026704c8304478da00fcf09c92328ac",
            "0d0137ea591e42adba4e85f9b42ec8f5",
            "1ad35133b2274de4b3383187d67ce599",
            "4f98f971eae7451fa2e251db3162900c",
            "aa62459026d141a7befe9dd6f122d8c0",
            "77a5ed99988b4b458ea26f5bd8356904",
            "e5ac6b43c41c42b0b17e4acde9601964",
            "d78164d413584e639ce0e659b1f6fa36",
            "e199d4f0ddf54a3bbc366ad4d77a0f1b",
            "5c93fdb43efc40da98068216583a38e1",
            "6869b97d89a04c11a9eb3d57cd8503f2",
            "3a240fcee7ab43a2ac66c1e7fd067d11",
            "6065af01813b42cf801e2dd19210225d",
            "4c8a2182d76b479b8a7c70d80e68fe8c",
            "6d4416e89d864644b496bf079d97ac68",
            "ce898d9dc8c6485c9a90526989925bbc",
            "b05eab7143e34ca5873d834377065aea",
            "f7232b00dfa04f0cb11219191f62044a",
            "daef49ef4e6e47ffa2619b5a65d63a5f",
            "408a2e520e5e43adbb0c66d559c43c13",
            "375fcbb1edac40f8882a70ab5de68806",
            "bc212a95692b420ab9e14ee6e83e69ab",
            "e439d97458444270a87d8342c08c245d"
          ]
        },
        "id": "6ti_HPdUOIcp",
        "outputId": "3d2070cb-1e9e-4e2e-b93c-e8c0cc56f980"
      },
      "source": [
        "import pytorch_lightning as pl\n",
        "from pytorch_lightning.callbacks import ModelCheckpoint\n",
        "from pytorch_lightning.loggers import TensorBoardLogger\n",
        "\n",
        "\n",
        "%run VideoCaptioner.ipynb\n",
        "\n",
        "\n",
        "logger = TensorBoardLogger(save_dir=\"/content/drive/My Drive/Colab Notebooks/Vision Project/Log/\", name=\"my_model\")\n",
        "\n",
        "checkpoint_callback = ModelCheckpoint(\n",
        "    filepath = '/content/drive/My Drive/Colab Notebooks/Vision Project/checkpoints/video_captioner_weights_{epoch:03d}-{val_loss:.2f}',\n",
        "    verbose = True, monitor = 'val_loss', mode = 'min', save_top_k = 6)\n",
        "\n",
        "# # Create image captioner.\n",
        "video_captioner = VideoCaptioner(tokenizer, embedding_size = embedding_size, \n",
        "                                 state_size = decoder_state_size, encoding_size = encoding_size)\n",
        "\n",
        "# # Simple thanks to Pytorch Lighting.\n",
        "trainer = pl.Trainer(gradient_clip_val = 1.0, gpus = 1, \n",
        "                     min_epochs = 2, max_epochs = 5,\n",
        "                     checkpoint_callback = checkpoint_callback,\n",
        "                     weights_summary = None, logger=logger) \n",
        "\n",
        "# # Train the model.\n",
        "trainer.fit(video_captioner, \n",
        "            train_dataloader = train_data_loader, \n",
        "            val_dataloaders = [val_data_loader]) "
      ],
      "execution_count": 12,
      "outputs": [
        {
          "output_type": "stream",
          "text": [
            "/usr/local/lib/python3.6/dist-packages/pytorch_lightning/utilities/distributed.py:45: UserWarning: Checkpoint directory /content/drive/My Drive/Colab Notebooks/Vision Project/checkpoints exists and is not empty. With save_top_k=6, all files in this directory will be deleted when a checkpoint is saved!\n",
            "  warnings.warn(*args, **kwargs)\n",
            "/usr/local/lib/python3.6/dist-packages/pytorch_lightning/utilities/distributed.py:45: UserWarning: You have set progress_bar_refresh_rate < 20 on Google Colab. This may crash. Consider using progress_bar_refresh_rate >= 20 in Trainer.\n",
            "  warnings.warn(*args, **kwargs)\n",
            "GPU available: True, used: True\n",
            "INFO:lightning:GPU available: True, used: True\n",
            "TPU available: False, using: 0 TPU cores\n",
            "INFO:lightning:TPU available: False, using: 0 TPU cores\n",
            "LOCAL_RANK: 0 - CUDA_VISIBLE_DEVICES: [0]\n",
            "INFO:lightning:LOCAL_RANK: 0 - CUDA_VISIBLE_DEVICES: [0]\n"
          ],
          "name": "stderr"
        },
        {
          "output_type": "display_data",
          "data": {
            "application/vnd.jupyter.widget-view+json": {
              "model_id": "a050a4af5bfb4880a909fce9d7ccddde",
              "version_minor": 0,
              "version_major": 2
            },
            "text/plain": [
              "HBox(children=(FloatProgress(value=1.0, bar_style='info', description='Validation sanity check', layout=Layout…"
            ]
          },
          "metadata": {
            "tags": []
          }
        },
        {
          "output_type": "stream",
          "text": [
            "Validation loss 9.38\n",
            "\r"
          ],
          "name": "stdout"
        },
        {
          "output_type": "stream",
          "text": [
            "/usr/local/lib/python3.6/dist-packages/pytorch_lightning/utilities/distributed.py:45: UserWarning: The validation_epoch_end should not return anything as of 9.1.to log, use self.log(...) or self.write(...) directly in the LightningModule\n",
            "  warnings.warn(*args, **kwargs)\n"
          ],
          "name": "stderr"
        },
        {
          "output_type": "display_data",
          "data": {
            "application/vnd.jupyter.widget-view+json": {
              "model_id": "dd4a1bd1a69e48e3ad8456085be1b427",
              "version_minor": 0,
              "version_major": 2
            },
            "text/plain": [
              "HBox(children=(FloatProgress(value=1.0, bar_style='info', description='Training', layout=Layout(flex='2'), max…"
            ]
          },
          "metadata": {
            "tags": []
          }
        },
        {
          "output_type": "display_data",
          "data": {
            "application/vnd.jupyter.widget-view+json": {
              "model_id": "82506e81ce1548969d544d64c67f627c",
              "version_minor": 0,
              "version_major": 2
            },
            "text/plain": [
              "HBox(children=(FloatProgress(value=1.0, bar_style='info', description='Validating', layout=Layout(flex='2'), m…"
            ]
          },
          "metadata": {
            "tags": []
          }
        },
        {
          "output_type": "stream",
          "text": [
            "Epoch 0: val_loss reached 9.30402 (best 9.30402), saving model to /content/drive/My Drive/Colab Notebooks/Vision Project/checkpoints/video_captioner_weights_epoch=000-val_loss=9.30.ckpt as top 6\n",
            "INFO:lightning:Epoch 0: val_loss reached 9.30402 (best 9.30402), saving model to /content/drive/My Drive/Colab Notebooks/Vision Project/checkpoints/video_captioner_weights_epoch=000-val_loss=9.30.ckpt as top 6\n"
          ],
          "name": "stderr"
        },
        {
          "output_type": "stream",
          "text": [
            "Validation loss 9.30\n",
            "Training loss 9.35\n"
          ],
          "name": "stdout"
        },
        {
          "output_type": "display_data",
          "data": {
            "application/vnd.jupyter.widget-view+json": {
              "model_id": "c229b41bc050480fb77c59562b1cc5d2",
              "version_minor": 0,
              "version_major": 2
            },
            "text/plain": [
              "HBox(children=(FloatProgress(value=1.0, bar_style='info', description='Validating', layout=Layout(flex='2'), m…"
            ]
          },
          "metadata": {
            "tags": []
          }
        },
        {
          "output_type": "stream",
          "text": [
            "Epoch 1: val_loss reached 9.19623 (best 9.19623), saving model to /content/drive/My Drive/Colab Notebooks/Vision Project/checkpoints/video_captioner_weights_epoch=001-val_loss=9.20.ckpt as top 6\n",
            "INFO:lightning:Epoch 1: val_loss reached 9.19623 (best 9.19623), saving model to /content/drive/My Drive/Colab Notebooks/Vision Project/checkpoints/video_captioner_weights_epoch=001-val_loss=9.20.ckpt as top 6\n"
          ],
          "name": "stderr"
        },
        {
          "output_type": "stream",
          "text": [
            "Validation loss 9.20\n",
            "Training loss 9.22\n"
          ],
          "name": "stdout"
        },
        {
          "output_type": "display_data",
          "data": {
            "application/vnd.jupyter.widget-view+json": {
              "model_id": "04703cd5d3b2476bb4468fd02a6a6b34",
              "version_minor": 0,
              "version_major": 2
            },
            "text/plain": [
              "HBox(children=(FloatProgress(value=1.0, bar_style='info', description='Validating', layout=Layout(flex='2'), m…"
            ]
          },
          "metadata": {
            "tags": []
          }
        },
        {
          "output_type": "stream",
          "text": [
            "Epoch 2: val_loss reached 8.91473 (best 8.91473), saving model to /content/drive/My Drive/Colab Notebooks/Vision Project/checkpoints/video_captioner_weights_epoch=002-val_loss=8.91.ckpt as top 6\n",
            "INFO:lightning:Epoch 2: val_loss reached 8.91473 (best 8.91473), saving model to /content/drive/My Drive/Colab Notebooks/Vision Project/checkpoints/video_captioner_weights_epoch=002-val_loss=8.91.ckpt as top 6\n"
          ],
          "name": "stderr"
        },
        {
          "output_type": "stream",
          "text": [
            "Validation loss 8.91\n",
            "Training loss 9.02\n"
          ],
          "name": "stdout"
        },
        {
          "output_type": "display_data",
          "data": {
            "application/vnd.jupyter.widget-view+json": {
              "model_id": "d78164d413584e639ce0e659b1f6fa36",
              "version_minor": 0,
              "version_major": 2
            },
            "text/plain": [
              "HBox(children=(FloatProgress(value=1.0, bar_style='info', description='Validating', layout=Layout(flex='2'), m…"
            ]
          },
          "metadata": {
            "tags": []
          }
        },
        {
          "output_type": "stream",
          "text": [
            "Epoch 3: val_loss reached 7.98364 (best 7.98364), saving model to /content/drive/My Drive/Colab Notebooks/Vision Project/checkpoints/video_captioner_weights_epoch=003-val_loss=7.98.ckpt as top 6\n",
            "INFO:lightning:Epoch 3: val_loss reached 7.98364 (best 7.98364), saving model to /content/drive/My Drive/Colab Notebooks/Vision Project/checkpoints/video_captioner_weights_epoch=003-val_loss=7.98.ckpt as top 6\n"
          ],
          "name": "stderr"
        },
        {
          "output_type": "stream",
          "text": [
            "Validation loss 7.98\n",
            "Training loss 8.43\n"
          ],
          "name": "stdout"
        },
        {
          "output_type": "display_data",
          "data": {
            "application/vnd.jupyter.widget-view+json": {
              "model_id": "ce898d9dc8c6485c9a90526989925bbc",
              "version_minor": 0,
              "version_major": 2
            },
            "text/plain": [
              "HBox(children=(FloatProgress(value=1.0, bar_style='info', description='Validating', layout=Layout(flex='2'), m…"
            ]
          },
          "metadata": {
            "tags": []
          }
        },
        {
          "output_type": "stream",
          "text": [
            "Epoch 4: val_loss reached 6.95662 (best 6.95662), saving model to /content/drive/My Drive/Colab Notebooks/Vision Project/checkpoints/video_captioner_weights_epoch=004-val_loss=6.96.ckpt as top 6\n",
            "INFO:lightning:Epoch 4: val_loss reached 6.95662 (best 6.95662), saving model to /content/drive/My Drive/Colab Notebooks/Vision Project/checkpoints/video_captioner_weights_epoch=004-val_loss=6.96.ckpt as top 6\n"
          ],
          "name": "stderr"
        },
        {
          "output_type": "stream",
          "text": [
            "Validation loss 6.96\n",
            "Training loss 7.15\n",
            "\n"
          ],
          "name": "stdout"
        },
        {
          "output_type": "execute_result",
          "data": {
            "text/plain": [
              "1"
            ]
          },
          "metadata": {
            "tags": []
          },
          "execution_count": 12
        }
      ]
    },
    {
      "cell_type": "markdown",
      "metadata": {
        "id": "3QRE1CPaOIcr"
      },
      "source": [
        "## Checking the trained Video Captioner"
      ]
    },
    {
      "cell_type": "code",
      "metadata": {
        "colab": {
          "base_uri": "https://localhost:8080/"
        },
        "id": "OxeCKXj1OIcr",
        "outputId": "6df5f913-1233-45f7-a71e-c7c6863924a5"
      },
      "source": [
        "trained_video_captioner = VideoCaptioner(tokenizer, embedding_size = embedding_size, state_size = decoder_state_size, encoding_size = encoding_size)\n",
        "\n",
        "checkpoint = torch.load('/content/drive/My Drive/Colab Notebooks/Vision Project/checkpoints/video_captioner_weights_epoch=004-val_loss=6.75.ckpt')\n",
        "trained_video_captioner.load_state_dict(checkpoint['state_dict'])\n",
        "\n",
        "for vidId in range(50,100):\n",
        "  video, _ = val_dataset.__getitem__(vidId)\n",
        "  caption = generate_caption(trained_video_captioner, video)\n",
        "  print(val_dataset.videos[vidId], caption)"
      ],
      "execution_count": null,
      "outputs": [
        {
          "output_type": "stream",
          "text": [
            "video5757 <start> a man is singing a song <end>\n",
            "video2170 <start> a man is walking down a street <end>\n",
            "video1449 <start> a man is talking to a crowd <end>\n",
            "video4348 <start> a man is talking to a man <end>\n",
            "video5799 <start> a man cuts the wood and the ingredients for the <unk> <end>\n",
            "video2487 <start> a guy is riding a bike on a railroad road <end>\n",
            "video5437 <start> a man is sketching a cartoon <end>\n",
            "video3931 <start> a man is talking to a man <end>\n",
            "video2920 <start> a woman in a violet is catwalking in a room <end>\n",
            "video1447 <start> a savanna elephant jumps and a zebra <end>\n",
            "video4100 <start> a woman is singing a song <end>\n",
            "video5164 <start> a group of boys are singing and playing the guitar <end>\n",
            "video6075 <start> the girl wore the classroom <end>\n",
            "video1861 <start> a woman is talking about a woman in a stage <end>\n",
            "video5061 <start> a girl is waiting for a window <end>\n",
            "video1558 <start> a woman is talking about a boy <end>\n",
            "video376 <start> an elephant cartoon dog talking to other cartoon characters <end>\n",
            "video1669 <start> a boy is singing on a stage <end>\n",
            "video1503 <start> a woman is explaining to the camera for the show <end>\n",
            "video2478 <start> vacuum technology is being talked about the <unk> of the car <end>\n",
            "video1021 <start> a man is showing how to play a car <end>\n",
            "video5043 <start> <unk> video shows a man in a baseball game is shown <end>\n",
            "video1747 <start> two animated characters are talking about a car <end>\n",
            "video5957 <start> a man is playing a guitar <end>\n",
            "video4216 <start> a man causes mischief mischief <end>\n",
            "video6265 <start> a man preforming a plane <end>\n",
            "video45 <start> the athletes stand at the point at a basketball game <end>\n",
            "video5670 <start> a person is attacking a fire in a video game <end>\n",
            "video1835 <start> a man singing a song <end>\n",
            "video5208 <start> a basketball player is underway <end>\n",
            "video4491 <start> an animated cartoon character is excited <end>\n",
            "video5596 <start> a video of a car is shown <end>\n",
            "video3165 <start> a woman in a kitchen is cooking food <end>\n",
            "video4046 <start> a woman adds garlic and boiled meat in a pan <end>\n",
            "video3532 <start> a group of politicians at a meeting <end>\n",
            "video5228 <start> a woman is talking about a woman <end>\n",
            "video3709 <start> a woman is posing for a beach <end>\n",
            "video4640 <start> a man and woman are talking about a girl <end>\n",
            "video3613 <start> a woman is singing a song on stage <end>\n",
            "video6581 <start> a man in a blue shirt and a man is talking about a <unk> <end>\n",
            "video1973 <start> a man is giving a presentation <end>\n",
            "video2674 <start> a man is playing a video game <end>\n",
            "video215 <start> two people are wrestling <end>\n",
            "video614 <start> a man folding a piece of paper <end>\n",
            "video5063 <start> two characters are fighting in a video game <end>\n",
            "video414 <start> two men are talking to each other in a room <end>\n",
            "video5477 <start> a man is betting cash <end>\n",
            "video3432 <start> school kids playing with a group of people <end>\n",
            "video2022 <start> a man in a blue shirt and a man talks about his <unk> <end>\n",
            "video3217 <start> a boy sings into a microphone <end>\n"
          ],
          "name": "stdout"
        }
      ]
    }
  ]
}